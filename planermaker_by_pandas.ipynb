{
 "cells": [
  {
   "cell_type": "code",
   "execution_count": 1,
   "id": "e6d9362e",
   "metadata": {},
   "outputs": [],
   "source": [
    "import openpyxl"
   ]
  },
  {
   "cell_type": "code",
   "execution_count": 2,
   "id": "908a65b7",
   "metadata": {},
   "outputs": [
    {
     "name": "stdout",
     "output_type": "stream",
     "text": [
      "3.0.9\n"
     ]
    }
   ],
   "source": [
    "print(openpyxl.__version__)"
   ]
  },
  {
   "cell_type": "code",
   "execution_count": 20,
   "id": "6ec6fba6",
   "metadata": {},
   "outputs": [
    {
     "ename": "SyntaxError",
     "evalue": "(unicode error) 'unicodeescape' codec can't decode bytes in position 0-1: truncated \\UXXXXXXXX escape (Temp/ipykernel_29592/2071012719.py, line 2)",
     "output_type": "error",
     "traceback": [
      "\u001b[1;36m  File \u001b[1;32m\"C:\\Users\\imkye\\AppData\\Local\\Temp/ipykernel_29592/2071012719.py\"\u001b[1;36m, line \u001b[1;32m2\u001b[0m\n\u001b[1;33m    ppp = pd.read_excel('\\Users\\imkye\\Desktop\\2022 하계 방학 공부\\파이썬 연습\\ppp.xlsx',\u001b[0m\n\u001b[1;37m                                                                            ^\u001b[0m\n\u001b[1;31mSyntaxError\u001b[0m\u001b[1;31m:\u001b[0m (unicode error) 'unicodeescape' codec can't decode bytes in position 0-1: truncated \\UXXXXXXXX escape\n"
     ]
    }
   ],
   "source": [
    "import pandas as pd\n",
    "ppp = pd.read_excel('\\Users\\imkye\\Desktop\\2022 하계 방학 공부\\파이썬 연습\\ppp.xlsx',\n",
    "                    header = 1,\n",
    "                    usecols = 'A:H')\n",
    "\n",
    "print(ppp.head(20))"
   ]
  },
  {
   "cell_type": "code",
   "execution_count": null,
   "id": "004af6ce",
   "metadata": {},
   "outputs": [],
   "source": []
  }
 ],
 "metadata": {
  "kernelspec": {
   "display_name": "Python 3 (ipykernel)",
   "language": "python",
   "name": "python3"
  },
  "language_info": {
   "codemirror_mode": {
    "name": "ipython",
    "version": 3
   },
   "file_extension": ".py",
   "mimetype": "text/x-python",
   "name": "python",
   "nbconvert_exporter": "python",
   "pygments_lexer": "ipython3",
   "version": "3.9.7"
  }
 },
 "nbformat": 4,
 "nbformat_minor": 5
}
